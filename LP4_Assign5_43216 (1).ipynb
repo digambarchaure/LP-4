{
 "cells": [
  {
   "cell_type": "markdown",
   "metadata": {
    "id": "i_GcJlVrDgBk"
   },
   "source": [
    "## Assignment 5\n",
    "    1. Name: Digambar Chaure\n",
    "    2. Batch: P-10\n",
    "    3. Roll No.: 43216\n",
    "    \n",
    "   ### Problem Statement :\n",
    "    Implement the Continuous Bag of Words (CBOW) Model\n"
   ]
  },
  {
   "cell_type": "markdown",
   "metadata": {},
   "source": [
    "#### Importing libraries"
   ]
  },
  {
   "cell_type": "code",
   "execution_count": 1,
   "metadata": {
    "id": "V51q50EbF-T9"
   },
   "outputs": [],
   "source": [
    "from keras.preprocessing import text\n",
    "from tensorflow.keras.utils import to_categorical\n",
    "from keras.preprocessing.sequence import pad_sequences\n",
    "from keras.preprocessing import sequence\n",
    "import numpy as np\n",
    "import pandas as pd\n",
    "\n",
    "from keras.utils import to_categorical\n",
    "\n",
    "\n",
    "\n"
   ]
  },
  {
   "cell_type": "markdown",
   "metadata": {},
   "source": [
    "#### Taking random sentences as data"
   ]
  },
  {
   "cell_type": "code",
   "execution_count": 2,
   "metadata": {
    "id": "wBUwYdBJElVz"
   },
   "outputs": [],
   "source": [
    "data = \"\"\"Deep learning (also known as deep structured learning) is part of a broader family of machine learning methods based on artificial neural networks with representation learning. Learning can be supervised, semi-supervised or unsupervised. \n",
    "Deep-learning architectures such as deep neural networks, deep belief networks, deep reinforcement learning, recurrent neural networks, convolutional neural networks and Transformers have been applied to fields including computer vision, speech recognition, natural language processing, machine translation, bioinformatics, drug design, medical image analysis, climate science, material inspection and board game programs, where they have produced results comparable to and in some cases surpassing human expert performance.\n",
    "\"\"\"\n",
    "dl_data = data.split()"
   ]
  },
  {
   "cell_type": "markdown",
   "metadata": {},
   "source": [
    "#### a. Data preparation\n",
    "#### Tokenization\n"
   ]
  },
  {
   "cell_type": "code",
   "execution_count": 3,
   "metadata": {
    "colab": {
     "base_uri": "https://localhost:8080/"
    },
    "id": "celNk9LmEvm8",
    "outputId": "4e2143b6-92dc-452f-f468-7c9e6238e287"
   },
   "outputs": [
    {
     "name": "stdout",
     "output_type": "stream",
     "text": [
      "Vocabulary Size: 75\n",
      "Vocabulary Sample: [('learning', 1), ('deep', 2), ('networks', 3), ('neural', 4), ('and', 5), ('as', 6), ('of', 7), ('machine', 8), ('supervised', 9), ('have', 10)]\n"
     ]
    }
   ],
   "source": [
    "tokenizer = text.Tokenizer()\n",
    "tokenizer.fit_on_texts(dl_data)\n",
    "word2id = tokenizer.word_index\n",
    "\n",
    "word2id['PAD'] = 0\n",
    "id2word = {v:k for k, v in word2id.items()}\n",
    "wids = [[word2id[w] for w in text.text_to_word_sequence(doc)] for doc in dl_data]\n",
    "\n",
    "vocab_size = len(word2id)\n",
    "embed_size = 100\n",
    "window_size = 2 \n",
    "\n",
    "print('Vocabulary Size:', vocab_size)\n",
    "print('Vocabulary Sample:', list(word2id.items())[:10])"
   ]
  },
  {
   "cell_type": "markdown",
   "metadata": {},
   "source": [
    "#### b. Generate training data\n",
    "#### Generating (context word, target/label word) pairs"
   ]
  },
  {
   "cell_type": "code",
   "execution_count": 4,
   "metadata": {
    "id": "AAxNYDanInQC"
   },
   "outputs": [],
   "source": [
    "def generate_context_word_pairs(corpus, window_size, vocab_size):\n",
    "    context_length = window_size*2\n",
    "    for words in corpus:\n",
    "        sentence_length = len(words)\n",
    "        for index, word in enumerate(words):\n",
    "            context_words = []\n",
    "            label_word   = []            \n",
    "            start = index - window_size\n",
    "            end = index + window_size + 1\n",
    "            \n",
    "            context_words.append([words[i] \n",
    "                                 for i in range(start, end) \n",
    "                                 if 0 <= i < sentence_length \n",
    "                                 and i != index])\n",
    "            label_word.append(word)\n",
    "\n",
    "            x = pad_sequences(context_words, maxlen=context_length)\n",
    "            # y = x;\n",
    "            y = to_categorical(label_word, vocab_size)\n",
    "            # y = pad_sequences(label_word, vocab_size)\n",
    "            yield (x, y)\n",
    "            \n",
    "i = 0\n",
    "for x, y in generate_context_word_pairs(corpus=wids, window_size=window_size, vocab_size=vocab_size):\n",
    "    if 0 not in x[0]:\n",
    "        print('Context (X):', [id2word[w] for w in x[0]], '-> Target (Y):', id2word[np.argwhere(y[0])[0][0]])\n",
    "    \n",
    "        if i == 10:\n",
    "            break\n",
    "        i += 1"
   ]
  },
  {
   "cell_type": "markdown",
   "metadata": {},
   "source": [
    "#### c. Train model\n",
    "#### Model building"
   ]
  },
  {
   "cell_type": "code",
   "execution_count": 5,
   "metadata": {
    "colab": {
     "base_uri": "https://localhost:8080/"
    },
    "id": "Rb5dNmoZKZBv",
    "outputId": "b859c07e-6989-420d-b169-8aa0b93ff367"
   },
   "outputs": [
    {
     "name": "stdout",
     "output_type": "stream",
     "text": [
      "Model: \"sequential\"\n",
      "_________________________________________________________________\n",
      " Layer (type)                Output Shape              Param #   \n",
      "=================================================================\n",
      " embedding (Embedding)       (None, 4, 100)            7500      \n",
      "                                                                 \n",
      " lambda (Lambda)             (None, 100)               0         \n",
      "                                                                 \n",
      " dense (Dense)               (None, 75)                7575      \n",
      "                                                                 \n",
      "=================================================================\n",
      "Total params: 15075 (58.89 KB)\n",
      "Trainable params: 15075 (58.89 KB)\n",
      "Non-trainable params: 0 (0.00 Byte)\n",
      "_________________________________________________________________\n",
      "None\n"
     ]
    }
   ],
   "source": [
    "import keras.backend as K\n",
    "from keras.models import Sequential\n",
    "from keras.layers import Dense, Embedding, Lambda\n",
    "\n",
    "cbow = Sequential()\n",
    "cbow.add(Embedding(input_dim=vocab_size, output_dim=embed_size, input_length=window_size*2))\n",
    "cbow.add(Lambda(lambda x: K.mean(x, axis=1), output_shape=(embed_size,)))\n",
    "cbow.add(Dense(vocab_size, activation='softmax'))\n",
    "cbow.compile(loss='categorical_crossentropy', optimizer='rmsprop')\n",
    "\n",
    "print(cbow.summary())\n",
    "\n",
    "# from IPython.display import SVG\n",
    "# from keras.utils.vis_utils import model_to_dot\n",
    "\n",
    "# SVG(model_to_dot(cbow, show_shapes=True, show_layer_names=False, rankdir='TB').create(prog='dot', format='svg'))"
   ]
  },
  {
   "cell_type": "code",
   "execution_count": 6,
   "metadata": {
    "colab": {
     "base_uri": "https://localhost:8080/"
    },
    "id": "xs12C3MDK1q4",
    "outputId": "fe8783b3-0ee1-4286-be40-6713afa14f9c"
   },
   "outputs": [
    {
     "name": "stdout",
     "output_type": "stream",
     "text": [
      "Epoch: 1 \tLoss: 433.63662338256836\n",
      "\n",
      "Epoch: 2 \tLoss: 429.32082533836365\n",
      "\n",
      "Epoch: 3 \tLoss: 426.13176012039185\n",
      "\n",
      "Epoch: 4 \tLoss: 423.06321120262146\n",
      "\n",
      "Epoch: 5 \tLoss: 420.5900616645813\n",
      "\n"
     ]
    }
   ],
   "source": [
    "for epoch in range(1, 6):\n",
    "    loss = 0.\n",
    "    i = 0\n",
    "    for x, y in generate_context_word_pairs(corpus=wids, window_size=window_size, vocab_size=vocab_size):\n",
    "        i += 1\n",
    "        loss += cbow.train_on_batch(x, y)\n",
    "        if i % 100000 == 0:\n",
    "            print('Processed {} (context, word) pairs'.format(i))\n",
    "\n",
    "    print('Epoch:', epoch, '\\tLoss:', loss)\n",
    "    print()"
   ]
  },
  {
   "cell_type": "code",
   "execution_count": 7,
   "metadata": {
    "colab": {
     "base_uri": "https://localhost:8080/",
     "height": 253
    },
    "id": "TZ3_QGKVK6Tj",
    "outputId": "cd9d167a-85a3-4cc9-eccb-faf997526122"
   },
   "outputs": [
    {
     "name": "stdout",
     "output_type": "stream",
     "text": [
      "(74, 100)\n"
     ]
    },
    {
     "data": {
      "text/html": [
       "<div>\n",
       "<style scoped>\n",
       "    .dataframe tbody tr th:only-of-type {\n",
       "        vertical-align: middle;\n",
       "    }\n",
       "\n",
       "    .dataframe tbody tr th {\n",
       "        vertical-align: top;\n",
       "    }\n",
       "\n",
       "    .dataframe thead th {\n",
       "        text-align: right;\n",
       "    }\n",
       "</style>\n",
       "<table border=\"1\" class=\"dataframe\">\n",
       "  <thead>\n",
       "    <tr style=\"text-align: right;\">\n",
       "      <th></th>\n",
       "      <th>0</th>\n",
       "      <th>1</th>\n",
       "      <th>2</th>\n",
       "      <th>3</th>\n",
       "      <th>4</th>\n",
       "      <th>5</th>\n",
       "      <th>6</th>\n",
       "      <th>7</th>\n",
       "      <th>8</th>\n",
       "      <th>9</th>\n",
       "      <th>...</th>\n",
       "      <th>90</th>\n",
       "      <th>91</th>\n",
       "      <th>92</th>\n",
       "      <th>93</th>\n",
       "      <th>94</th>\n",
       "      <th>95</th>\n",
       "      <th>96</th>\n",
       "      <th>97</th>\n",
       "      <th>98</th>\n",
       "      <th>99</th>\n",
       "    </tr>\n",
       "  </thead>\n",
       "  <tbody>\n",
       "    <tr>\n",
       "      <th>deep</th>\n",
       "      <td>-0.021084</td>\n",
       "      <td>0.006103</td>\n",
       "      <td>-0.031814</td>\n",
       "      <td>0.035423</td>\n",
       "      <td>0.023713</td>\n",
       "      <td>-0.027820</td>\n",
       "      <td>0.031899</td>\n",
       "      <td>-0.048250</td>\n",
       "      <td>-0.031764</td>\n",
       "      <td>-0.049902</td>\n",
       "      <td>...</td>\n",
       "      <td>-0.022906</td>\n",
       "      <td>-0.006347</td>\n",
       "      <td>-0.010172</td>\n",
       "      <td>0.017360</td>\n",
       "      <td>0.026332</td>\n",
       "      <td>0.023315</td>\n",
       "      <td>-0.003002</td>\n",
       "      <td>0.019667</td>\n",
       "      <td>0.031540</td>\n",
       "      <td>-0.001583</td>\n",
       "    </tr>\n",
       "    <tr>\n",
       "      <th>networks</th>\n",
       "      <td>-0.000412</td>\n",
       "      <td>-0.042485</td>\n",
       "      <td>-0.030193</td>\n",
       "      <td>0.001367</td>\n",
       "      <td>-0.030932</td>\n",
       "      <td>0.038665</td>\n",
       "      <td>-0.017899</td>\n",
       "      <td>-0.028196</td>\n",
       "      <td>0.026849</td>\n",
       "      <td>0.048810</td>\n",
       "      <td>...</td>\n",
       "      <td>0.023398</td>\n",
       "      <td>0.026378</td>\n",
       "      <td>0.030653</td>\n",
       "      <td>0.043704</td>\n",
       "      <td>-0.042744</td>\n",
       "      <td>-0.047346</td>\n",
       "      <td>-0.015518</td>\n",
       "      <td>0.042783</td>\n",
       "      <td>0.063237</td>\n",
       "      <td>-0.013474</td>\n",
       "    </tr>\n",
       "    <tr>\n",
       "      <th>neural</th>\n",
       "      <td>0.008015</td>\n",
       "      <td>0.044186</td>\n",
       "      <td>-0.044066</td>\n",
       "      <td>0.036801</td>\n",
       "      <td>0.038825</td>\n",
       "      <td>0.014629</td>\n",
       "      <td>-0.037670</td>\n",
       "      <td>0.037631</td>\n",
       "      <td>0.013585</td>\n",
       "      <td>-0.000447</td>\n",
       "      <td>...</td>\n",
       "      <td>-0.034125</td>\n",
       "      <td>0.020259</td>\n",
       "      <td>-0.042056</td>\n",
       "      <td>0.016909</td>\n",
       "      <td>-0.006547</td>\n",
       "      <td>-0.016218</td>\n",
       "      <td>0.046122</td>\n",
       "      <td>0.032891</td>\n",
       "      <td>-0.046983</td>\n",
       "      <td>-0.020227</td>\n",
       "    </tr>\n",
       "    <tr>\n",
       "      <th>and</th>\n",
       "      <td>0.024419</td>\n",
       "      <td>-0.001714</td>\n",
       "      <td>0.011232</td>\n",
       "      <td>-0.047460</td>\n",
       "      <td>0.014579</td>\n",
       "      <td>-0.022021</td>\n",
       "      <td>-0.045271</td>\n",
       "      <td>0.001647</td>\n",
       "      <td>-0.008147</td>\n",
       "      <td>-0.014263</td>\n",
       "      <td>...</td>\n",
       "      <td>0.007514</td>\n",
       "      <td>0.013822</td>\n",
       "      <td>0.032611</td>\n",
       "      <td>0.048463</td>\n",
       "      <td>0.008977</td>\n",
       "      <td>0.011856</td>\n",
       "      <td>-0.024564</td>\n",
       "      <td>-0.024580</td>\n",
       "      <td>-0.035521</td>\n",
       "      <td>-0.008892</td>\n",
       "    </tr>\n",
       "    <tr>\n",
       "      <th>as</th>\n",
       "      <td>-0.046243</td>\n",
       "      <td>0.005224</td>\n",
       "      <td>0.041783</td>\n",
       "      <td>-0.024480</td>\n",
       "      <td>0.046457</td>\n",
       "      <td>0.045561</td>\n",
       "      <td>-0.032513</td>\n",
       "      <td>0.018861</td>\n",
       "      <td>-0.033432</td>\n",
       "      <td>-0.006889</td>\n",
       "      <td>...</td>\n",
       "      <td>-0.023168</td>\n",
       "      <td>-0.014525</td>\n",
       "      <td>0.006973</td>\n",
       "      <td>-0.025727</td>\n",
       "      <td>-0.031680</td>\n",
       "      <td>-0.025969</td>\n",
       "      <td>-0.043915</td>\n",
       "      <td>0.028054</td>\n",
       "      <td>0.028061</td>\n",
       "      <td>0.013622</td>\n",
       "    </tr>\n",
       "  </tbody>\n",
       "</table>\n",
       "<p>5 rows × 100 columns</p>\n",
       "</div>"
      ],
      "text/plain": [
       "                0         1         2         3         4         5   \\\n",
       "deep     -0.021084  0.006103 -0.031814  0.035423  0.023713 -0.027820   \n",
       "networks -0.000412 -0.042485 -0.030193  0.001367 -0.030932  0.038665   \n",
       "neural    0.008015  0.044186 -0.044066  0.036801  0.038825  0.014629   \n",
       "and       0.024419 -0.001714  0.011232 -0.047460  0.014579 -0.022021   \n",
       "as       -0.046243  0.005224  0.041783 -0.024480  0.046457  0.045561   \n",
       "\n",
       "                6         7         8         9   ...        90        91  \\\n",
       "deep      0.031899 -0.048250 -0.031764 -0.049902  ... -0.022906 -0.006347   \n",
       "networks -0.017899 -0.028196  0.026849  0.048810  ...  0.023398  0.026378   \n",
       "neural   -0.037670  0.037631  0.013585 -0.000447  ... -0.034125  0.020259   \n",
       "and      -0.045271  0.001647 -0.008147 -0.014263  ...  0.007514  0.013822   \n",
       "as       -0.032513  0.018861 -0.033432 -0.006889  ... -0.023168 -0.014525   \n",
       "\n",
       "                92        93        94        95        96        97  \\\n",
       "deep     -0.010172  0.017360  0.026332  0.023315 -0.003002  0.019667   \n",
       "networks  0.030653  0.043704 -0.042744 -0.047346 -0.015518  0.042783   \n",
       "neural   -0.042056  0.016909 -0.006547 -0.016218  0.046122  0.032891   \n",
       "and       0.032611  0.048463  0.008977  0.011856 -0.024564 -0.024580   \n",
       "as        0.006973 -0.025727 -0.031680 -0.025969 -0.043915  0.028054   \n",
       "\n",
       "                98        99  \n",
       "deep      0.031540 -0.001583  \n",
       "networks  0.063237 -0.013474  \n",
       "neural   -0.046983 -0.020227  \n",
       "and      -0.035521 -0.008892  \n",
       "as        0.028061  0.013622  \n",
       "\n",
       "[5 rows x 100 columns]"
      ]
     },
     "execution_count": 7,
     "metadata": {},
     "output_type": "execute_result"
    }
   ],
   "source": [
    "weights = cbow.get_weights()[0]\n",
    "weights = weights[1:]\n",
    "print(weights.shape)\n",
    "\n",
    "pd.DataFrame(weights, index=list(id2word.values())[1:]).head()"
   ]
  },
  {
   "cell_type": "markdown",
   "metadata": {},
   "source": [
    "#### d. Output "
   ]
  },
  {
   "cell_type": "code",
   "execution_count": 8,
   "metadata": {
    "colab": {
     "base_uri": "https://localhost:8080/"
    },
    "id": "UFs2IAn_LAYS",
    "outputId": "87ae1249-6a80-484f-b4a2-4d5f20734db7"
   },
   "outputs": [
    {
     "name": "stdout",
     "output_type": "stream",
     "text": [
      "(74, 74)\n"
     ]
    },
    {
     "data": {
      "text/plain": [
       "{'deep': ['of', 'such', 'game', 'based', 'with']}"
      ]
     },
     "execution_count": 8,
     "metadata": {},
     "output_type": "execute_result"
    }
   ],
   "source": [
    "from sklearn.metrics.pairwise import euclidean_distances\n",
    "\n",
    "distance_matrix = euclidean_distances(weights)\n",
    "print(distance_matrix.shape)\n",
    "\n",
    "similar_words = {search_term: [id2word[idx] for idx in distance_matrix[word2id[search_term]-1].argsort()[1:6]+1] \n",
    "                   for search_term in ['deep']}\n",
    "\n",
    "similar_words"
   ]
  },
  {
   "cell_type": "code",
   "execution_count": null,
   "metadata": {},
   "outputs": [],
   "source": []
  }
 ],
 "metadata": {
  "colab": {
   "collapsed_sections": [],
   "provenance": []
  },
  "kernelspec": {
   "display_name": "Python 3",
   "language": "python",
   "name": "python3"
  },
  "language_info": {
   "codemirror_mode": {
    "name": "ipython",
    "version": 3
   },
   "file_extension": ".py",
   "mimetype": "text/x-python",
   "name": "python",
   "nbconvert_exporter": "python",
   "pygments_lexer": "ipython3",
   "version": "3.9.6"
  }
 },
 "nbformat": 4,
 "nbformat_minor": 4
}
